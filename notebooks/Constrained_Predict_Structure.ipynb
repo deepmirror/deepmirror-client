{
 "cells": [
  {
   "cell_type": "markdown",
   "metadata": {},
   "source": [
    "## Running structure predictions with multimer and monomeric predictions\n",
    "\n",
    "Before running this notebook, please ensure you:\n",
    "\n",
    "1. Are logged in by running `dm login EMAIL` in the terminal\n",
    "2. Have a Token registered and saved on the file\n"
   ]
  },
  {
   "cell_type": "code",
   "execution_count": null,
   "metadata": {},
   "outputs": [],
   "source": [
    "!pip install deepmirror\n",
    "# !dm login <YOUREMAIL>"
   ]
  },
  {
   "cell_type": "code",
   "execution_count": null,
   "metadata": {},
   "outputs": [],
   "source": [
    "import time\n",
    "import zipfile\n",
    "\n",
    "import py3Dmol\n",
    "\n",
    "import deepmirror.api as api"
   ]
  },
  {
   "cell_type": "markdown",
   "metadata": {},
   "source": [
    "### Define some helper functions"
   ]
  },
  {
   "cell_type": "code",
   "execution_count": null,
   "metadata": {},
   "outputs": [],
   "source": [
    "def cofold(chains: list[dict], constraint_settings: dict) -> str:\n",
    "    response = api.structure_prediction(chains, constraint_settings)\n",
    "    task_id = response[\"task_id\"]\n",
    "\n",
    "    while True:\n",
    "        response = api.get_structure_prediction(task_id)\n",
    "        status = response[\"status\"]\n",
    "        if status == \"completed\":\n",
    "            break\n",
    "        print(f\"Current status: {status} - Waiting 2 min for completion...\")\n",
    "        time.sleep(120)\n",
    "\n",
    "    with open(f\"result-{task_id}.zip\", \"wb\") as f:\n",
    "        f.write(api.download_structure_prediction(task_id))\n",
    "\n",
    "    return task_id\n",
    "\n",
    "\n",
    "def view_results(task_id: str):\n",
    "    with zipfile.ZipFile(f\"result-{task_id}.zip\", \"r\") as zf:\n",
    "        cif_data = zf.read(\"data.cif\").decode(\"utf-8\")\n",
    "    view = py3Dmol.view(width=400, height=400)\n",
    "    view.addModel(cif_data, \"cif\")\n",
    "    view.setStyle({\"cartoon\": {}})\n",
    "    view.addStyle({\"hetflag\": True}, {\"stick\": {}})\n",
    "    view.zoomTo()\n",
    "    return view"
   ]
  },
  {
   "cell_type": "markdown",
   "metadata": {},
   "source": [
    "# Protein + Ligand"
   ]
  },
  {
   "cell_type": "code",
   "execution_count": null,
   "metadata": {},
   "outputs": [],
   "source": [
    "chains = [\n",
    "    {\n",
    "        \"label\": \"A\",\n",
    "        \"value\": \"MTEYKLVVVGADGVGKSALTIQLIQNHFVDEYDPTIEDSYRKQVVIDGETCLLDILDTAGQEEYSAMRDQYMRTGEGFLCVFAINNTKSFEDIHHYREQIKRVKDSEDVPMVLVGNKCDLPSRTVDTKQAQDLARSYGIPFIETSAKTRQGVDDAFYTLVREIRKHKEK\",\n",
    "        \"type\": \"protein\",\n",
    "    },\n",
    "    {\n",
    "        \"label\": \"B\",\n",
    "        \"value\": \"c1nc2c(n1C3C(C(C(O3)COP(=O)(O)OP(=O)(O)O)O)O)N=C(NC2=O)N\",\n",
    "        \"type\": \"ligand\",\n",
    "    },\n",
    "]"
   ]
  },
  {
   "cell_type": "markdown",
   "metadata": {},
   "source": [
    "\n",
    "## Define each point - point constraint. This is used to define constraints between any two residues or a protein and a small molecule within a pocket\n",
    "\n",
    "* Please note that the residue indices are 1-indexed\n",
    "* Connection Type: \"contact\", used to define residue contacts within or between protein chains, \"pocket\" used for small molecule and protein pocket\n",
    "* min_distance_angstron: minimum distance between the heavy atoms of the interacting residues\n",
    "* max_distance_angstron: maximum distance between the heavy atoms of the interacting residues\n",
    "* confidence: Weight assigned to the constraint\n",
    "* comment: User defined comment for the constraint.\n",
    "* restraint_id: restraint_i, where i is the number assigned to the constraint, starting from 0\n",
    "* Please define as many constraints and add them in the final list of constraints"
   ]
  },
  {
   "cell_type": "markdown",
   "metadata": {},
   "source": [
    "##### Protein Contact Map constraint: connection_type: 'contact'"
   ]
  },
  {
   "cell_type": "code",
   "execution_count": null,
   "metadata": {},
   "outputs": [],
   "source": [
    "constraint_1 = {\n",
    "    \"chainA\": \"A\",\n",
    "    \"res_idxA\": \"F28\",\n",
    "    \"chainB\": \"A\",\n",
    "    \"res_idxB\": \"Q99\",\n",
    "    \"connection_type\": \"contact\",\n",
    "    \"confidence\": 1.0,\n",
    "    \"min_distance_angstrom\": 3.0,\n",
    "    \"max_distance_angstrom\": 5.0,\n",
    "    \"comment\": \"Inter Protein Chain Contact\",\n",
    "    \"restraint_id\": \"restraint_0\",\n",
    "}"
   ]
  },
  {
   "cell_type": "markdown",
   "metadata": {},
   "source": [
    "\n",
    "##### Protein - Small Molecule Pocket constraint: connection_type: 'pocket'. \n",
    "Please make sure that the small molecule is assigned the chainA and the protein is assigned the chainB for defining pocket restraint\n"
   ]
  },
  {
   "cell_type": "code",
   "execution_count": null,
   "metadata": {},
   "outputs": [],
   "source": [
    "constraint_2 = {\n",
    "    \"chainA\": \"B\",\n",
    "    \"res_idxA\": \"\",\n",
    "    \"chainB\": \"A\",\n",
    "    \"res_idxB\": \"D57\",\n",
    "    \"connection_type\": \"pocket\",\n",
    "    \"confidence\": 1.0,\n",
    "    \"min_distance_angstrom\": 4,\n",
    "    \"max_distance_angstrom\": 5,\n",
    "    \"comment\": \"Protein - Small Molecule Pocket Interaction\",\n",
    "    \"restraint_id\": \"restraint_1\",\n",
    "}"
   ]
  },
  {
   "cell_type": "markdown",
   "metadata": {},
   "source": [
    "##### Combine all constraints into one list to set up constraint_settings"
   ]
  },
  {
   "cell_type": "code",
   "execution_count": null,
   "metadata": {},
   "outputs": [],
   "source": [
    "constraints = [constraint_1, constraint_2]\n",
    "constraint_settings = {\"constraints\": constraints}"
   ]
  },
  {
   "cell_type": "markdown",
   "metadata": {},
   "source": [
    "### Initiate Structure Prediction"
   ]
  },
  {
   "cell_type": "code",
   "execution_count": null,
   "metadata": {},
   "outputs": [],
   "source": [
    "task_id = cofold(chains, constraint_settings)"
   ]
  },
  {
   "cell_type": "code",
   "execution_count": null,
   "metadata": {},
   "outputs": [],
   "source": [
    "view = view_results(task_id)\n",
    "view"
   ]
  }
 ],
 "metadata": {
  "kernelspec": {
   "display_name": ".venv",
   "language": "python",
   "name": "python3"
  },
  "language_info": {
   "codemirror_mode": {
    "name": "ipython",
    "version": 3
   },
   "file_extension": ".py",
   "mimetype": "text/x-python",
   "name": "python",
   "nbconvert_exporter": "python",
   "pygments_lexer": "ipython3",
   "version": "3.13.3"
  }
 },
 "nbformat": 4,
 "nbformat_minor": 2
}
