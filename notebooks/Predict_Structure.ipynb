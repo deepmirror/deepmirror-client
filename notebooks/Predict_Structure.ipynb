{
 "cells": [
  {
   "cell_type": "markdown",
   "metadata": {},
   "source": [
    "## Running structure predictions with multimer and monomeric predictions\n",
    "\n",
    "Before running this notebook, please ensure you:\n",
    "\n",
    "1. Are logged in by running `dm login EMAIL` in the terminal\n",
    "2. Have a Token registered and saved on the file\n"
   ]
  },
  {
   "cell_type": "code",
   "execution_count": null,
   "metadata": {},
   "outputs": [],
   "source": [
    "!pip install deepmirror"
   ]
  },
  {
   "cell_type": "code",
   "execution_count": null,
   "metadata": {},
   "outputs": [],
   "source": [
    "!dm login <YOUREMAIL>"
   ]
  },
  {
   "cell_type": "code",
   "execution_count": null,
   "metadata": {},
   "outputs": [],
   "source": [
    "import time\n",
    "import zipfile\n",
    "\n",
    "import py3Dmol\n",
    "\n",
    "import deepmirror.api as api"
   ]
  },
  {
   "cell_type": "markdown",
   "metadata": {},
   "source": [
    "### Define some helper functions"
   ]
  },
  {
   "cell_type": "code",
   "execution_count": null,
   "metadata": {},
   "outputs": [],
   "source": [
    "def cofold(\n",
    "    chains: list[dict],\n",
    ") -> str:\n",
    "    response = api.structure_prediction(chains)\n",
    "    task_id = response[\"task_id\"]\n",
    "\n",
    "    while True:\n",
    "        response = api.get_structure_prediction(task_id)\n",
    "        status = response[\"status\"]\n",
    "        if status == \"completed\":\n",
    "            break\n",
    "        print(\n",
    "            f\"{task_id}: Current status: {status} - Waiting 2 min for completion...\"\n",
    "        )\n",
    "        time.sleep(120)\n",
    "\n",
    "    with open(f\"result-{task_id}.zip\", \"wb\") as f:\n",
    "        f.write(api.download_structure_prediction(task_id))\n",
    "\n",
    "    return task_id\n",
    "\n",
    "\n",
    "def view_results(task_id: str):\n",
    "    with zipfile.ZipFile(f\"result-{task_id}.zip\", \"r\") as zf:\n",
    "        cif_data = zf.read(\"data.cif\").decode(\"utf-8\")\n",
    "    view = py3Dmol.view(width=400, height=400)\n",
    "    view.addModel(cif_data, \"cif\")\n",
    "    view.setStyle({\"cartoon\": {}})\n",
    "    view.addStyle({\"hetflag\": True}, {\"stick\": {}})\n",
    "    view.zoomTo()\n",
    "    return view"
   ]
  },
  {
   "cell_type": "markdown",
   "metadata": {},
   "source": [
    "# Protein + Ligand"
   ]
  },
  {
   "cell_type": "code",
   "execution_count": null,
   "metadata": {},
   "outputs": [],
   "source": [
    "chains = [\n",
    "    {\n",
    "        \"label\": \"A\",\n",
    "        \"value\": \"AQYEDGKQYTTLEKPVAGAPQVLEFFSFFCPHCYQFEEVLHISDNVKKKLPEGVKMTKYHVNFMGGDLGKDLTQAWAVAMALGVEDKVTVPLFEGVQKTQTIRSASDIRDVFINAGIKGEEYDAAWNSFVVKSLVAQQEKAAADVQLRGVPAMFVNGKYQLNPQGMDTSNMDVFVQQYADTVKYLSEKK\",\n",
    "        \"type\": \"protein\",\n",
    "    },\n",
    "    {\n",
    "        \"label\": \"B\",\n",
    "        \"value\": \"AQYEDGKQYTTLEKPVAGAPQVLEFFSFFCPHCYQFEEVLHISDNVKKKLPEGVKMTKYHVNFMGGDLGKDLTQAWAVAMALGVEDKVTVPLFEGVQKTQTIRSASDIRDVFINAGIKGEEYDAAWNSFVVKSLVAQQEKAAADVQLRGVPAMFVNGKYQLNPQGMDTSNMDVFVQQYADTVKYLSEKK\",\n",
    "        \"type\": \"protein\",\n",
    "    },\n",
    "    {\n",
    "        \"label\": \"C\",\n",
    "        \"value\": \" Cc1nc(sc1C(=O)N[C@@H](Cc2ccc(O)cc2)C(O)=O)c3ccc(cc3)C(F)(F)F\",\n",
    "        \"type\": \"ligand\",\n",
    "    },\n",
    "]"
   ]
  },
  {
   "cell_type": "markdown",
   "metadata": {},
   "source": [
    "### Initiate Structure Prediction"
   ]
  },
  {
   "cell_type": "code",
   "execution_count": null,
   "metadata": {},
   "outputs": [],
   "source": [
    "task_id = cofold(chains)"
   ]
  },
  {
   "cell_type": "code",
   "execution_count": null,
   "metadata": {},
   "outputs": [],
   "source": [
    "view = view_results(task_id)\n",
    "view"
   ]
  },
  {
   "cell_type": "markdown",
   "metadata": {},
   "source": [
    "# Protein + DNA/RNA + Metal Ion + Small Molecule"
   ]
  },
  {
   "cell_type": "code",
   "execution_count": null,
   "metadata": {},
   "outputs": [],
   "source": [
    "chains = [\n",
    "    {\n",
    "        \"label\": \"A\",\n",
    "        \"value\": \"MDIKSFLYQFCAKSQIEPKFDIRQTGPKNRQRFLCEVRVEPNTYIGVGNSTNKKDAEKNACRDFVNYLVRVGKLNTNDVPADAGASGGGPRTGLEGAGMAGGSGQQKRVFDGQSGPQDLGEAYRPLNHDGGDGGNRYSVIDRIQEQRDMNEAEAFDVNAAIHGNWTIENAKERLNIYKQTNNIRDDYKYTPVGPEHARSFLAELSIYVPALNRTVTARESGSNKKSASKSCALSLVRQLFHLNVIEPFSGTLKKKKDEQLKPYPVKLSPNLINKIDEVIKGLDLPVVNPRNIKIELDGPPIPLIVNLSRIDSSQQDGEKRQESSVIPWAPPQANWNTWHACNIDEGELATTSIDDLSMDYERSLRDRRQNDNEYRQFLEFREKLPIAAMRSEILTAINDNPVVIIRGNTGCGKTTQIAQYILDDYICSGQGGYANIYVTQPRRISAISVAERVARERCEQLGDTVGYSVRFESVFPRPYGAILFCTVGVLLRKLEAGLRGVSHIIVDEIHERDVNSDFLLVILRDMVDTYPDLHVILMSATIDTTKFSKYFGICPVLEVPGRAFPVQQFFLEDIIQMTDFVPSAESRRKRKEVEDEEQLLSEDKDEAEINYNKVCEDKYSQKTRNAMAMLSESDVSFELLEALLMHIKSKNIPGAILVFLPGWNLIFALMKFLQNTNIFGDTSQYQILPCHSQIPRDEQRKVFEPVPEGVTKIILSTNIAETSITIDDIVFVIDICKARMKLFTSHNNLTSYATVWASKTNLEQRKGRAGRVRPGFCFTLCSRARFQALEDNLTPEMFRTPLHEMALTIKLLRLGSIHHFLSKALEPPPVDAVIEAEVLLREMRCLDANDELTPLGRLLARLPIEPRLGKMMVLGAVFGCADLMAIMASYSSTFSEVFSLDIGQRRLANHQKALSGTKCSDHVAMIVASQMWRREKQRGEHMEARFCDWKGLQMSTMNVIWDAKQQLLDLLQQAGFPEECMISHEVDERIDGDDPVLDVSLALLCLGLYPNICVHKEKRKVLTTESKAALLHKTSVNCSNLAVTFPYPFFVFGEKIRTRAVSCKQLSMVSPLQVILFGSRKIDLAANNIVRVDNWLNFDIEPELAAKIGALKPALEDLITVACDNPSDILRLEEPYAQLVKVVKDLCVKSAGDFGLQRE\",\n",
    "        \"type\": \"protein\",\n",
    "    },\n",
    "    {\n",
    "        \"label\": \"B\",\n",
    "        \"value\": \"UUUUUUUUUU\",\n",
    "        \"type\": \"rna\",\n",
    "    },\n",
    "    {\n",
    "        \"label\": \"C\",\n",
    "        \"value\": \"c1nc(c2c(n1)n(cn2)[C@H]3[C@@H]([C@@H]([C@H](O3)CO[P@](=O)(O)OP(=O)(O)O)O)O)N\",\n",
    "        \"type\": \"ligand\",\n",
    "    },\n",
    "    {\"label\": \"D\", \"value\": \"[Mg+2]\", \"type\": \"ligand\"},\n",
    "]"
   ]
  },
  {
   "cell_type": "markdown",
   "metadata": {},
   "source": [
    "### Initiate Structure Prediction"
   ]
  },
  {
   "cell_type": "code",
   "execution_count": null,
   "metadata": {},
   "outputs": [],
   "source": [
    "task_id = cofold(chains)"
   ]
  },
  {
   "cell_type": "code",
   "execution_count": null,
   "metadata": {},
   "outputs": [],
   "source": [
    "view = view_results(task_id)\n",
    "view"
   ]
  }
 ],
 "metadata": {
  "kernelspec": {
   "display_name": ".venv",
   "language": "python",
   "name": "python3"
  },
  "language_info": {
   "codemirror_mode": {
    "name": "ipython",
    "version": 3
   },
   "file_extension": ".py",
   "mimetype": "text/x-python",
   "name": "python",
   "nbconvert_exporter": "python",
   "pygments_lexer": "ipython3",
   "version": "3.13.3"
  }
 },
 "nbformat": 4,
 "nbformat_minor": 2
}
