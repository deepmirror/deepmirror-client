{
 "cells": [
  {
   "cell_type": "markdown",
   "metadata": {},
   "source": [
    "# Running inference\n"
   ]
  },
  {
   "cell_type": "code",
   "execution_count": null,
   "metadata": {},
   "outputs": [],
   "source": [
    "from deepmirror.api import list_models, predict"
   ]
  },
  {
   "cell_type": "code",
   "execution_count": null,
   "metadata": {},
   "outputs": [],
   "source": [
    "models = list_models()"
   ]
  },
  {
   "cell_type": "code",
   "execution_count": null,
   "metadata": {},
   "outputs": [],
   "source": [
    "data = [\n",
    "    \"C[C@H](C(=O)O)[C@@H](NC(=O)c1ncnc2[nH]ccc12)c1ccc(Br)cc1\",\n",
    "    \"CC(C)[C@H](Nc1ncnc(N)c1Cl)c1ccc2c(c1)S(=O)(=O)CCC2\",\n",
    "    \"CNC(=O)c1cc2c(N[C@H](c3ccc4c(c3)OCCO4)C(C)C)ncnc2[nH]1\",\n",
    "    \"CC(C)[C@@H](Nc1ncnc2[nH]c(-c3cnn(C)c3C#N)cc12)c1ccc2c(c1)OCCO2\",\n",
    "    \"CNC(=O)CN1C[C@@]2(C(=O)N(c3cncc4ccccc34)C[C@@H]2Cc2nn[nH]n2)c2cc(Cl)ccc2C1=O\",\n",
    "    \"O=C(Nc1cccc(B(O)O)c1)[C@H]1CCN(Cc2ccccc2)C1\",\n",
    "    \"O=C(O)Cc1ccccc1Nc1c(Cl)cccc1Cl\",\n",
    "    \"O=C(Nc1ccc2c(c1)CNC2)c1cc(Br)cc2[nH]c(-c3ccccc3)nc12\",\n",
    "    \"CC(C)[C@H](Nc1ncnc2[nH]cc(C(N)=O)c12)c1ccc2c(c1)OCCO2\",\n",
    "    \"CC(C)[C@H](Nc1ncnc2[nH]c(-c3cncc(S(C)(=O)=O)c3)cc12)c1ccc2c(c1)S(=O)(=O)CCC2\",\n",
    "]"
   ]
  },
  {
   "cell_type": "code",
   "execution_count": null,
   "metadata": {},
   "outputs": [],
   "source": [
    "predictions = predict(models[0][\"model_name\"], input_smiles=data)"
   ]
  },
  {
   "cell_type": "code",
   "execution_count": null,
   "metadata": {},
   "outputs": [],
   "source": [
    "predictions"
   ]
  },
  {
   "cell_type": "code",
   "execution_count": null,
   "metadata": {},
   "outputs": [],
   "source": [
    "models"
   ]
  },
  {
   "cell_type": "code",
   "execution_count": null,
   "metadata": {},
   "outputs": [],
   "source": []
  }
 ],
 "metadata": {
  "kernelspec": {
   "display_name": "base",
   "language": "python",
   "name": "python3"
  },
  "language_info": {
   "codemirror_mode": {
    "name": "ipython",
    "version": 3
   },
   "file_extension": ".py",
   "mimetype": "text/x-python",
   "name": "python",
   "nbconvert_exporter": "python",
   "pygments_lexer": "ipython3",
   "version": "3.13.3"
  }
 },
 "nbformat": 4,
 "nbformat_minor": 2
}
