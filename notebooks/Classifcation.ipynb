{
 "cells": [
  {
   "cell_type": "markdown",
   "metadata": {},
   "source": [
    "# Build classification model\n",
    "\n",
    "Please note that before running, make sure you are logged in by running `dm login EMAIL` in the terminal."
   ]
  },
  {
   "cell_type": "code",
   "execution_count": null,
   "metadata": {},
   "outputs": [],
   "source": [
    "import time\n",
    "from pathlib import Path\n",
    "\n",
    "import matplotlib.pyplot as plt\n",
    "import numpy as np\n",
    "import pandas as pd\n",
    "from sklearn.metrics import roc_auc_score, roc_curve\n",
    "from tqdm import tqdm\n",
    "\n",
    "from deepmirror.api import model_info, model_metadata, predict, train"
   ]
  },
  {
   "cell_type": "code",
   "execution_count": null,
   "metadata": {},
   "outputs": [],
   "source": [
    "root = Path().cwd().parent\n",
    "data_path_train = root / \"data\" / \"data-cls.csv\"\n",
    "data_path_test = root / \"data\" / \"data-cls-test.csv\"\n",
    "\n",
    "df_train = pd.read_csv(data_path_train)\n",
    "df_test = pd.read_csv(data_path_test)"
   ]
  },
  {
   "cell_type": "code",
   "execution_count": null,
   "metadata": {},
   "outputs": [],
   "source": [
    "df_train.head()"
   ]
  },
  {
   "cell_type": "code",
   "execution_count": null,
   "metadata": {},
   "outputs": [],
   "source": [
    "model = train(\n",
    "    model_name=\"test-cls-model\",\n",
    "    csv_file=data_path_train,\n",
    "    smiles_column=\"smiles\",\n",
    "    value_column=\"y\",\n",
    "    classification=True,\n",
    ")"
   ]
  },
  {
   "cell_type": "code",
   "execution_count": null,
   "metadata": {},
   "outputs": [],
   "source": [
    "model"
   ]
  },
  {
   "cell_type": "code",
   "execution_count": null,
   "metadata": {},
   "outputs": [],
   "source": [
    "model = model_info(model[\"model_id\"])\n",
    "with tqdm(desc=\"Training model\", unit=\"sec\") as pbar:\n",
    "    while model[\"status\"] != \"completed\":\n",
    "        time.sleep(1)\n",
    "        model = model_info(model[\"model_id\"])\n",
    "        pbar.set_postfix_str(f\"Status: {model['status']}\")\n",
    "        pbar.update(1)"
   ]
  },
  {
   "cell_type": "code",
   "execution_count": null,
   "metadata": {},
   "outputs": [],
   "source": [
    "model_metadata(model[\"model_id\"])"
   ]
  },
  {
   "cell_type": "code",
   "execution_count": null,
   "metadata": {},
   "outputs": [],
   "source": [
    "df_test"
   ]
  },
  {
   "cell_type": "code",
   "execution_count": null,
   "metadata": {},
   "outputs": [],
   "source": [
    "predictions = predict(model[\"model_name\"], smiles=df_test[\"smiles\"].tolist())"
   ]
  },
  {
   "cell_type": "code",
   "execution_count": null,
   "metadata": {},
   "outputs": [],
   "source": [
    "class_prob = predictions[\"prediction\"]\n",
    "y_pred = (np.array(class_prob) > 0.5).astype(int)\n",
    "y_true = df_test[\"y\"].astype(int)\n",
    "\n",
    "auc_roc = roc_auc_score(y_true, class_prob)\n",
    "print(f\"ROC AUC Score: {auc_roc:.4f}\")\n",
    "\n",
    "# Calculate ROC curve points\n",
    "fpr, tpr, _ = roc_curve(y_true, class_prob)\n",
    "\n",
    "# Plot ROC curve\n",
    "plt.figure(figsize=(8, 6))\n",
    "plt.plot(fpr, tpr, color=\"blue\", lw=2, label=f\"ROC curve (AUC = {auc_roc:.4f})\")\n",
    "plt.plot([0, 1], [0, 1], color=\"gray\", linestyle=\"--\")\n",
    "plt.xlim([0.0, 1.0])\n",
    "plt.ylim([0.0, 1.05])\n",
    "plt.xlabel(\"False Positive Rate\")\n",
    "plt.ylabel(\"True Positive Rate\")\n",
    "plt.title(\"Receiver Operating Characteristic (ROC) Curve\")\n",
    "plt.legend(loc=\"lower right\")\n",
    "plt.grid(True)\n",
    "plt.show()"
   ]
  },
  {
   "cell_type": "code",
   "execution_count": null,
   "metadata": {},
   "outputs": [],
   "source": []
  }
 ],
 "metadata": {
  "kernelspec": {
   "display_name": "base",
   "language": "python",
   "name": "python3"
  },
  "language_info": {
   "codemirror_mode": {
    "name": "ipython",
    "version": 3
   },
   "file_extension": ".py",
   "mimetype": "text/x-python",
   "name": "python",
   "nbconvert_exporter": "python",
   "pygments_lexer": "ipython3",
   "version": "3.13.3"
  }
 },
 "nbformat": 4,
 "nbformat_minor": 2
}
