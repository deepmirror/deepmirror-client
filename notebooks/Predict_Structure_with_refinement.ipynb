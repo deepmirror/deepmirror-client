{
 "cells": [
  {
   "cell_type": "markdown",
   "metadata": {},
   "source": [
    "## Running structure predictions with physics based MD Engine enabled refinment and binding scores (mm-GBSA)\n",
    "\n",
    "Before running this notebook, please ensure you:\n",
    "\n",
    "1. Are logged in by running `dm login EMAIL` in the terminal\n",
    "2. Have a Token registered and saved on the file\n"
   ]
  },
  {
   "cell_type": "markdown",
   "metadata": {},
   "source": [
    "!pip install deepmirror"
   ]
  },
  {
   "cell_type": "markdown",
   "metadata": {},
   "source": [
    "!dm login <YOUREMAIL>"
   ]
  },
  {
   "cell_type": "code",
   "execution_count": null,
   "metadata": {},
   "outputs": [],
   "source": [
    "import time\n",
    "import zipfile\n",
    "\n",
    "import pandas as pd\n",
    "import py3Dmol\n",
    "\n",
    "import deepmirror.api as api"
   ]
  },
  {
   "cell_type": "markdown",
   "metadata": {},
   "source": [
    "### Define some helper functions"
   ]
  },
  {
   "cell_type": "code",
   "execution_count": null,
   "metadata": {},
   "outputs": [],
   "source": [
    "def cofold(chains: list[dict], user_settings: dict) -> str:\n",
    "    response = api.structure_prediction(chains, user_settings)\n",
    "    task_id = response[\"task_id\"]\n",
    "\n",
    "    while True:\n",
    "        response = api.get_structure_prediction(task_id)\n",
    "        status = response[\"status\"]\n",
    "        if status == \"completed\":\n",
    "            break\n",
    "        print(\n",
    "            f\"{task_id}: Current status: {status} - Waiting 2 min for completion...\"\n",
    "        )\n",
    "        time.sleep(120)\n",
    "\n",
    "    with open(f\"result-{task_id}.zip\", \"wb\") as f:\n",
    "        f.write(api.download_structure_prediction(task_id))\n",
    "\n",
    "    return task_id\n",
    "\n",
    "\n",
    "def view_results(task_id: str):\n",
    "    with zipfile.ZipFile(f\"result-{task_id}.zip\", \"r\") as zf:\n",
    "        cif_data = zf.read(\"data.cif\").decode(\"utf-8\")\n",
    "    view = py3Dmol.view(width=400, height=400)\n",
    "    view.addModel(cif_data, \"cif\")\n",
    "    view.setStyle({\"cartoon\": {}})\n",
    "    view.addStyle({\"hetflag\": True}, {\"stick\": {}})\n",
    "    view.zoomTo()\n",
    "    return view\n",
    "\n",
    "\n",
    "def get_gbsa_scores(task_id: str):\n",
    "    with zipfile.ZipFile(f\"result-{task_id}.zip\", \"r\") as zf:\n",
    "        with zf.open(\"results/gbsa_scores.csv\") as csvfile:\n",
    "            gbsa_scores = pd.read_csv(csvfile)\n",
    "    return gbsa_scores"
   ]
  },
  {
   "cell_type": "markdown",
   "metadata": {},
   "source": [
    "# Protein + Ligand"
   ]
  },
  {
   "cell_type": "code",
   "execution_count": null,
   "metadata": {},
   "outputs": [],
   "source": [
    "chains = [\n",
    "    {\n",
    "        \"label\": \"A\",\n",
    "        \"value\": \"DYLRELLKLELQGIKQYREALEYVKLPVLAKILEDEEKHIEWLETILG\",\n",
    "        \"type\": \"protein\",\n",
    "    },\n",
    "    {\n",
    "        \"label\": \"B\",\n",
    "        \"value\": \"DYLRELLKLELQGIKQYREALEYVKLPVLAKILEDEEKHIEWLETILG\",\n",
    "        \"type\": \"protein\",\n",
    "    },\n",
    "    {\n",
    "        \"label\": \"C\",\n",
    "        \"value\": \"Cc1cc(c2cc(ccc2n1)C(=N)N)Nc3cccc(c3)OC\",\n",
    "        \"type\": \"ligand\",\n",
    "    },\n",
    "]"
   ]
  },
  {
   "cell_type": "markdown",
   "metadata": {},
   "source": [
    "### Initiate Structure Prediction\n",
    "\n",
    "- Flag \"minimize_predictions\": Please set yes or no, Turns the minimization on or off respectively.\n",
    "- Flag: \"affinity\": Please adjust it to the chain ID of the ligand\n",
    "\n",
    "Please note that for MD based refinement, we leverage Quantum Mechanical calculations to refine small molecule's geometry and energy. Therefore, for larger and particularly charged molecules, the calculations can take upto 40 minutes.\n"
   ]
  },
  {
   "cell_type": "code",
   "execution_count": null,
   "metadata": {},
   "outputs": [],
   "source": [
    "user_settings = {\"minimize_predictions\": \"yes\", \"affinity\": \"C\"}\n",
    "task_id = cofold(chains, user_settings)"
   ]
  },
  {
   "cell_type": "code",
   "execution_count": null,
   "metadata": {},
   "outputs": [],
   "source": [
    "view = view_results(task_id)\n",
    "view"
   ]
  },
  {
   "cell_type": "code",
   "execution_count": null,
   "metadata": {},
   "outputs": [],
   "source": [
    "gbsa_scores = get_gbsa_scores(task_id)\n",
    "print(\"GBSA Scores of predicted structures\")\n",
    "gbsa_scores"
   ]
  },
  {
   "cell_type": "markdown",
   "metadata": {},
   "source": [
    "Please check the \"Results\" folder with compiled analysis:\n",
    "\n",
    "* Predicted conformations in mmCIF format\n",
    "* Un-refined, but topology corrected conformations in pdb format\n",
    "* Refined conformations with prefix \"minimized-\"\n",
    "* Confidence scores\n",
    "* mmGBSA scores\n",
    "* Affinity scores (only when using Boltz with 'affinity' settings)"
   ]
  },
  {
   "cell_type": "markdown",
   "metadata": {},
   "source": [
    "## How do we perform refinement?"
   ]
  },
  {
   "cell_type": "markdown",
   "metadata": {},
   "source": [
    "#### Predicted structures from Co-folding are processed with physics-based forcefields\n",
    "\n",
    "* The small molecule conformaton generated are processed to correct artificially created geometry and topology defects\n",
    "* Refine small molecule geometry using QM/MM treatment.\n",
    "* Add water molecules to the complex structure and refine geometry of the complex using all-atom forcefields\n",
    "* Compute mmGBSA score to assess the binding energy of each predicted bound small-molecule conformation"
   ]
  },
  {
   "cell_type": "markdown",
   "metadata": {},
   "source": [
    "Minimized conformation of the small-molecule (magenta) overlayed with unminimized conformation (white) predicted using the example above\n",
    "# <img src=\"./example_images/predicted_vs_minimized_complex.png\" width=\"300\"/>"
   ]
  },
  {
   "cell_type": "markdown",
   "metadata": {},
   "source": [
    "Minimized conformation of the small-molecule should provide a better assessment of intra-molecular interactions like hydrogen bonds\n",
    "# <img src=\"./example_images/minimized_conformation_interactions.png\" width=\"300\"/>"
   ]
  },
  {
   "cell_type": "markdown",
   "metadata": {},
   "source": [
    "NOTE: Structure minimization with all-atom force fields can sometimes distort planar aromatic rings, a common artifact. This occurs because the energy cost of bending an aromatic ring is comparable to that of adjusting protein backbone torsions. As a result, energy minimization may occasionally produce bound conformations in which aromatic rings appear slightly bent, a physically possible but seemingly incorrect outcome. E.g. please see, https://my.schrodinger.com/support/article/1036"
   ]
  },
  {
   "cell_type": "markdown",
   "metadata": {},
   "source": []
  }
 ],
 "metadata": {
  "kernelspec": {
   "display_name": ".venv",
   "language": "python",
   "name": "python3"
  },
  "language_info": {
   "codemirror_mode": {
    "name": "ipython",
    "version": 3
   },
   "file_extension": ".py",
   "mimetype": "text/x-python",
   "name": "python",
   "nbconvert_exporter": "python",
   "pygments_lexer": "ipython3",
   "version": "3.13.3"
  }
 },
 "nbformat": 4,
 "nbformat_minor": 2
}
