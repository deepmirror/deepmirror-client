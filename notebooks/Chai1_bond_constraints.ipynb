{
 "cells": [
  {
   "cell_type": "markdown",
   "metadata": {},
   "source": [
    "## Running structure predictions with multimer and monomeric predictions\n",
    "\n",
    "Before running this notebook, please ensure you:\n",
    "\n",
    "1. Are logged in by running `dm login EMAIL` in the terminal\n",
    "2. Have a Token registered and saved on the file\n"
   ]
  },
  {
   "cell_type": "code",
   "execution_count": null,
   "metadata": {},
   "outputs": [],
   "source": [
    "!pip install deepmirror\n",
    "# !dm login <YOUREMAIL>"
   ]
  },
  {
   "cell_type": "code",
   "execution_count": null,
   "metadata": {},
   "outputs": [],
   "source": [
    "import time\n",
    "import zipfile\n",
    "\n",
    "import py3Dmol\n",
    "from IPython.display import SVG, display\n",
    "from rdkit import Chem\n",
    "from rdkit.Chem import AllChem\n",
    "from rdkit.Chem.Draw import rdMolDraw2D\n",
    "\n",
    "import deepmirror.api as api"
   ]
  },
  {
   "cell_type": "markdown",
   "metadata": {},
   "source": [
    "### Define some helper functions"
   ]
  },
  {
   "cell_type": "code",
   "execution_count": null,
   "metadata": {},
   "outputs": [],
   "source": [
    "def draw_rdmol(sml) -> None:\n",
    "    mol = Chem.MolFromSmiles(sml)\n",
    "    drawer = rdMolDraw2D.MolDraw2DSVG(400, 300)\n",
    "    drawer.DrawMolecule(mol)\n",
    "    drawer.FinishDrawing()\n",
    "    svg = drawer.GetDrawingText().replace(\"svg:\", \"\")\n",
    "    display(SVG(svg))\n",
    "    return"
   ]
  },
  {
   "cell_type": "code",
   "execution_count": null,
   "metadata": {},
   "outputs": [],
   "source": [
    "def draw_atom_names(reacted_smiles) -> None:\n",
    "    mol = Chem.MolFromSmiles(reacted_smiles)\n",
    "    mol = Chem.AddHs(mol)\n",
    "    AllChem.EmbedMolecule(mol, AllChem.ETKDG())\n",
    "    AllChem.UFFOptimizeMolecule(mol)\n",
    "    pdb_block = Chem.MolToPDBBlock(mol)\n",
    "    pdb_mol = Chem.MolFromPDBBlock(pdb_block, removeHs=True)\n",
    "\n",
    "    names = []\n",
    "    for atom in pdb_mol.GetAtoms():\n",
    "        names.append(atom.GetPDBResidueInfo().GetName().strip())\n",
    "\n",
    "    pdb_mol.RemoveAllConformers()\n",
    "    AllChem.Compute2DCoords(pdb_mol)\n",
    "    drawer = rdMolDraw2D.MolDraw2DSVG(400, 300)\n",
    "    opts = drawer.drawOptions()\n",
    "\n",
    "    for i in range(len(names)):\n",
    "        opts.atomLabels[i] = names[i]\n",
    "\n",
    "    drawer.DrawMolecule(pdb_mol)\n",
    "    drawer.FinishDrawing()\n",
    "    svg = drawer.GetDrawingText().replace(\"svg:\", \"\")\n",
    "    display(SVG(svg))\n",
    "\n",
    "    return"
   ]
  },
  {
   "cell_type": "code",
   "execution_count": null,
   "metadata": {},
   "outputs": [],
   "source": [
    "def cofold(chains: list[dict], constraint_settings: dict) -> str:\n",
    "    response = api.structure_prediction(chains, constraint_settings)\n",
    "    task_id = response[\"task_id\"]\n",
    "\n",
    "    while True:\n",
    "        response = api.get_structure_prediction(task_id)\n",
    "        status = response[\"status\"]\n",
    "        if status == \"completed\":\n",
    "            break\n",
    "        print(f\"Current status: {status} - Waiting 2 min for completion...\")\n",
    "        time.sleep(120)\n",
    "\n",
    "    with open(f\"result-{task_id}.zip\", \"wb\") as f:\n",
    "        f.write(api.download_structure_prediction(task_id))\n",
    "\n",
    "    return task_id\n",
    "\n",
    "\n",
    "def view_results(task_id: str):\n",
    "    with zipfile.ZipFile(f\"result-{task_id}.zip\", \"r\") as zf:\n",
    "        cif_data = zf.read(\"data.cif\").decode(\"utf-8\")\n",
    "    view = py3Dmol.view(width=400, height=400)\n",
    "    view.addModel(cif_data, \"cif\")\n",
    "    view.setStyle({\"cartoon\": {}})\n",
    "    view.addStyle({\"hetflag\": True}, {\"stick\": {}})\n",
    "    view.zoomTo()\n",
    "    return view"
   ]
  },
  {
   "cell_type": "markdown",
   "metadata": {},
   "source": [
    "# Protein + Ligand"
   ]
  },
  {
   "cell_type": "markdown",
   "metadata": {},
   "source": [
    "Get the structure of ligand smile -- pre-covalent bond formation:\n",
    "# <img src=\"./example_images/unreacted_mol.png\" width=\"300\"/>\n",
    "\n"
   ]
  },
  {
   "cell_type": "code",
   "execution_count": null,
   "metadata": {},
   "outputs": [],
   "source": [
    "unreacted_smiles = \"C=CC(=O)N1CCN([C@H](C1)C)C2=NC(=O)N(c3c2cc(c(n3)c4c(cccc4F)O)F)c5c(ccnc5C(C)C)C\"\n",
    "draw_rdmol(unreacted_smiles)"
   ]
  },
  {
   "cell_type": "markdown",
   "metadata": {},
   "source": [
    "Alter the smile to remove the leaving group\n",
    "# <img src=\"./example_images/reacted_mol.png\" width=\"300\"/>\n",
    "\n"
   ]
  },
  {
   "cell_type": "code",
   "execution_count": null,
   "metadata": {},
   "outputs": [],
   "source": [
    "reacted_smiles = \"CCC(=O)N1CCN([C@H](C1)C)C2=NC(=O)N(c3c2cc(c(n3)c4c(cccc4F)O)F)c5c(ccnc5C(C)C)C\"\n",
    "draw_rdmol(reacted_smiles)"
   ]
  },
  {
   "cell_type": "markdown",
   "metadata": {},
   "source": [
    "Identify the reaction center's atom name\n",
    "# <img src=\"./example_images/atom_names_mol.png\" width=\"300\"/>\n",
    "\n"
   ]
  },
  {
   "cell_type": "code",
   "execution_count": null,
   "metadata": {},
   "outputs": [],
   "source": [
    "draw_atom_names(reacted_smiles)"
   ]
  },
  {
   "cell_type": "code",
   "execution_count": null,
   "metadata": {},
   "outputs": [],
   "source": [
    "chains = [\n",
    "    {\n",
    "        \"label\": \"A\",\n",
    "        \"value\": \"MTEYKLVVVGACGVGKSALTIQLIQNHFVDEYDPTIEDSYRKQVVIDGETCLLDILDTAGQEEYSAMRDQYMRTGEGFLCVFAINNTKSFEDIHQYREQIKRVKDSDDVPMVLVGNKCDLAARTVESRQAQDLARSYGIPYIETSAKTRQGVEDAFYTLVREIRQH\",\n",
    "        \"type\": \"protein\",\n",
    "    },\n",
    "    {\n",
    "        \"label\": \"B\",\n",
    "        \"value\": reacted_smiles,\n",
    "        \"type\": \"ligand\",\n",
    "    },\n",
    "]"
   ]
  },
  {
   "cell_type": "markdown",
   "metadata": {},
   "source": [
    "\n",
    "## Bond constraint. \n",
    "\n",
    "This is used to define a covalent constraints between any two atoms within a protein or protein + small-molecule\n",
    "\n",
    "* Please note that the residue indices are 1-indexed\n",
    "* Connection Type: \"covalent\", used to define a covalent bond restraint\n",
    "* res_idxA and res_idxB: residue indices with the atom names participating in the covalent bond\n",
    "* For residue and atom names of the Amino Acids, please follow the PDB nomenclature, see below for few common examples.\n",
    "* min_distance_angstron: minimum distance between the bonded heavy atoms, suggested to set as -0.5A of optimal bond length\n",
    "* max_distance_angstron: maximum distance between the bonded heavy atoms, suggested to set as +1A of optimal bond length \n",
    "* confidence: Weight assigned to the constraint\n",
    "* comment: User defined comment for the constraint.\n",
    "* restraint_id: restraint_i, where i is the number assigned to the constraint, starting from 0\n",
    "* Please define as many constraints and add them in the final list of constraints"
   ]
  },
  {
   "cell_type": "markdown",
   "metadata": {},
   "source": [
    "For an extensive list, please refer to the PDB atom nomenclature\n",
    "\n",
    "| Amino Acid (Letter Code) | Reactive Atom Name | \n",
    "| --- | --- | \n",
    "| CYS (C) | SG |\n",
    "| SER (S) | OG |\n",
    "| LYS (K) | NZ |"
   ]
  },
  {
   "cell_type": "code",
   "execution_count": null,
   "metadata": {},
   "outputs": [],
   "source": [
    "constraint_1 = {\n",
    "    \"chainA\": \"A\",\n",
    "    \"res_idxA\": \"C12@SG\",\n",
    "    \"chainB\": \"B\",\n",
    "    \"res_idxB\": \"@C1\",\n",
    "    \"connection_type\": \"covalent\",\n",
    "    \"confidence\": 1.0,\n",
    "    \"min_distance_angstrom\": 1.2,\n",
    "    \"max_distance_angstrom\": 2.1,\n",
    "    \"comment\": \"CG-C acrylamide bond\",\n",
    "    \"restraint_id\": \"restraint_0\",\n",
    "}"
   ]
  },
  {
   "cell_type": "code",
   "execution_count": null,
   "metadata": {},
   "outputs": [],
   "source": [
    "constraints = [constraint_1]\n",
    "constraint_settings = {\"constraints\": constraints}"
   ]
  },
  {
   "cell_type": "markdown",
   "metadata": {},
   "source": [
    "### Initiate Structure Prediction"
   ]
  },
  {
   "cell_type": "code",
   "execution_count": null,
   "metadata": {},
   "outputs": [],
   "source": [
    "task_id = cofold(chains, constraint_settings)"
   ]
  },
  {
   "cell_type": "code",
   "execution_count": null,
   "metadata": {},
   "outputs": [],
   "source": [
    "view = view_results(task_id)\n",
    "view"
   ]
  }
 ],
 "metadata": {
  "kernelspec": {
   "display_name": ".venv",
   "language": "python",
   "name": "python3"
  },
  "language_info": {
   "codemirror_mode": {
    "name": "ipython",
    "version": 3
   },
   "file_extension": ".py",
   "mimetype": "text/x-python",
   "name": "python",
   "nbconvert_exporter": "python",
   "pygments_lexer": "ipython3",
   "version": "3.13.3"
  }
 },
 "nbformat": 4,
 "nbformat_minor": 2
}
